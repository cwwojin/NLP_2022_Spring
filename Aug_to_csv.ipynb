{
 "cells": [
  {
   "cell_type": "code",
   "execution_count": 1,
   "metadata": {},
   "outputs": [],
   "source": [
    "import gensim, os, re\n",
    "import nlpaug.augmenter.word as naw\n",
    "import pandas as pd\n",
    "from nltk.corpus import stopwords"
   ]
  },
  {
   "cell_type": "markdown",
   "metadata": {},
   "source": [
    "Objectives\n",
    "\n",
    "Test / Train split : 10 / 90\n",
    "\n",
    "Input : tf-idf / word2vec\n",
    "\n",
    "Experiments\n",
    "\n",
    "1. n (augment 횟수) (Fixed-value 할수도 있다.)\n",
    "2. N (training-set size)\n",
    "3. Ratio (original / word2vec)"
   ]
  },
  {
   "cell_type": "code",
   "execution_count": 3,
   "metadata": {},
   "outputs": [],
   "source": [
    "model_path = \"models/\"\n",
    "data_path = \"phrasebank/\"\n",
    "output_path = \"augmented/\"\n",
    "\n",
    "stop_words = list(set(stopwords.words('english')))\n",
    "\n",
    "aug_max, aug_p = 4, 0.1\n",
    "\n",
    "aug_word2vec = naw.WordEmbsAug(model_type = 'word2vec', model_path=model_path + \"word2vec.bin\", aug_max=aug_max, aug_p=aug_p, stopwords=stop_words)\n",
    "#aug_syn = naw.SynonymAug(aug_src='wordnet', aug_max=None, aug_p=0.1)\n",
    "aug_base = naw.TfIdfAug(model_path=model_path, aug_max=aug_max, aug_p=aug_p)\n",
    "\n",
    "test_df = pd.read_csv(data_path + \"phr_test.csv\", sep=\",\")\n",
    "train_df = pd.read_csv(data_path + \"phr_train.csv\", sep=\",\")"
   ]
  },
  {
   "cell_type": "code",
   "execution_count": 4,
   "metadata": {},
   "outputs": [],
   "source": [
    "def run_aug(n, N, R, train_df, aug_word2vec, aug_base, output_fname, path='') :\n",
    "    train_df_sample = train_df.sample(n=N, ignore_index=True)\n",
    "    #save sample as file\n",
    "    train_df_sample.to_csv(path + output_fname[:-4] + \"sample_{N}_.csv\".format(N=N), sep=\",\")\n",
    "\n",
    "    n_word2vec = int(n*R)\n",
    "    n_base = n - n_word2vec\n",
    "\n",
    "    #aug.augment(data, n)\n",
    "    augmented_data_sentences = []\n",
    "    augmented_data_labels = []\n",
    "\n",
    "    for idx, row in train_df_sample.iterrows() :\n",
    "        sentence = row['sentence']\n",
    "        label = row['label']\n",
    "        augmented_word2vec = aug_word2vec.augment(sentence, n=n_word2vec) if n_word2vec > 0 else []\n",
    "        augmented_base = aug_base.augment(sentence, n=n_base) if n_base > 0 else []\n",
    "        #label-preserving\n",
    "        augmented_data_sentences += ([sentence] + augmented_word2vec + augmented_base)\n",
    "        augmented_data_labels += [label for i in range(n+1)]\n",
    "    \n",
    "    #save new dataset to csv-file\n",
    "    output_df = pd.DataFrame(list(zip(augmented_data_sentences, augmented_data_labels)), columns=['sentence', 'label'])\n",
    "    output_df.to_csv(path + output_fname, sep=\",\")\n",
    "\n",
    "    return path + output_fname"
   ]
  },
  {
   "cell_type": "markdown",
   "metadata": {},
   "source": [
    "aug_min=1(default), aug_max=None, aug_p=0.1, n=8\n",
    "\n",
    "\n",
    "1. N : 500; 4000; +500 / R = 1 (8개)\n",
    "2. R : 1; 0.0; -0.25 / N = best from 1. (5개)"
   ]
  },
  {
   "cell_type": "code",
   "execution_count": 14,
   "metadata": {},
   "outputs": [],
   "source": [
    "fnames_exp1 = [(\"1_aug_tf_\" + str(i) + \"_100_.csv\") for i in range(500,4001,500)]\n",
    "fnames_exp2 = [(\"2_aug_tf_\" + str(4000) + \"_\" + str(i) + \"_.csv\") for i in range(100, -1, -25)]"
   ]
  },
  {
   "cell_type": "code",
   "execution_count": null,
   "metadata": {},
   "outputs": [],
   "source": [
    "for fname in fnames_exp1 :\n",
    "    tokens = fname.split(\"_\")\n",
    "    N, R = int(tokens[3]), int(tokens[4]) / 100\n",
    "    print(\"Exp1 - N : {N} / R : {R}\".format(N=N, R=R))\n",
    "    run_aug(8, N, R, train_df, aug_word2vec, aug_base, fname, path=output_path)\n"
   ]
  },
  {
   "cell_type": "code",
   "execution_count": 16,
   "metadata": {},
   "outputs": [
    {
     "name": "stdout",
     "output_type": "stream",
     "text": [
      "Exp2 - N : 4000 / R : 1.0\n",
      "Exp2 - N : 4000 / R : 0.75\n",
      "Exp2 - N : 4000 / R : 0.5\n",
      "Exp2 - N : 4000 / R : 0.25\n",
      "Exp2 - N : 4000 / R : 0.0\n"
     ]
    }
   ],
   "source": [
    "for fname in fnames_exp2 :\n",
    "    tokens = fname.split(\"_\")\n",
    "    N, R = int(tokens[3]), int(tokens[4]) / 100\n",
    "    print(\"Exp2 - N : {N} / R : {R}\".format(N=N, R=R))\n",
    "    run_aug(8, N, R, train_df, aug_word2vec, aug_base, fname, path=output_path)"
   ]
  },
  {
   "cell_type": "code",
   "execution_count": 7,
   "metadata": {},
   "outputs": [
    {
     "name": "stdout",
     "output_type": "stream",
     "text": [
      "Exp3 - N : 1000 / R : 1.0\n",
      "Exp3 - N : 1000 / R : 0.75\n",
      "Exp3 - N : 1000 / R : 0.5\n",
      "Exp3 - N : 1000 / R : 0.25\n",
      "Exp3 - N : 1000 / R : 0.0\n"
     ]
    }
   ],
   "source": [
    "#Exp-3 : 1000 samples / preserved label ratios\n",
    "train_df_exp3 = pd.read_csv(data_path + \"phr_train_only1000.csv\", sep=\",\")\n",
    "fnames_exp3 = [\"3_aug_tf_{N}_{i}_.csv\".format(N=1000, i=i) for i in range(100, -1, -25)]\n",
    "\n",
    "for fname in fnames_exp3 :\n",
    "    tokens = fname.split(\"_\")\n",
    "    N, R = int(tokens[3]), int(tokens[4]) / 100\n",
    "    print(\"Exp3 - N : {N} / R : {R}\".format(N=N, R=R))\n",
    "    run_aug(8, N, R, train_df_exp3, aug_word2vec, aug_base, fname, path=output_path)"
   ]
  }
 ],
 "metadata": {
  "interpreter": {
   "hash": "b0fa6594d8f4cbf19f97940f81e996739fb7646882a419484c72d19e05852a7e"
  },
  "kernelspec": {
   "display_name": "Python 3.9.13 64-bit",
   "language": "python",
   "name": "python3"
  },
  "language_info": {
   "codemirror_mode": {
    "name": "ipython",
    "version": 3
   },
   "file_extension": ".py",
   "mimetype": "text/x-python",
   "name": "python",
   "nbconvert_exporter": "python",
   "pygments_lexer": "ipython3",
   "version": "3.9.13"
  },
  "orig_nbformat": 4
 },
 "nbformat": 4,
 "nbformat_minor": 2
}
