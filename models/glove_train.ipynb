{
 "cells": [
  {
   "cell_type": "code",
   "execution_count": null,
   "metadata": {},
   "outputs": [],
   "source": [
    "!pip install glove-python-binary tqdm nltk"
   ]
  },
  {
   "cell_type": "code",
   "execution_count": null,
   "metadata": {},
   "outputs": [],
   "source": [
    "from glove import Corpus, Glove\n",
    "from tqdm import tqdm\n",
    "\n",
    "\n",
    "data = [sent.strip().split(\" \") for sent in tqdm(open(\"bloomberg_corpus_uncased.txt\", 'r', encoding='utf-8').readlines())]\n",
    "\n",
    "corpus = Corpus()\n",
    "print('1')\n",
    "corpus.fit(data, window=10)\n",
    "print('2')\n",
    "glove_train = Glove(no_components=100, learning_rate=0.05)\n",
    "glove_train.fit(corpus.matrix, epochs=10, no_threads=4, verbose=True)\n",
    "glove_train.add_dictionary(corpus.dictionary)\n",
    "print('3')\n",
    "glove_train.save('./glove.model')"
   ]
  }
 ],
 "metadata": {
  "interpreter": {
   "hash": "2ddc5739ec12c0e44cbc1689046c2190ee9d480c6dbe2fb8c201fcdb395917e4"
  },
  "kernelspec": {
   "display_name": "Python 3.7.13 ('nlp_glove')",
   "language": "python",
   "name": "python3"
  },
  "language_info": {
   "name": "python",
   "version": "3.6.13"
  },
  "orig_nbformat": 4
 },
 "nbformat": 4,
 "nbformat_minor": 2
}
